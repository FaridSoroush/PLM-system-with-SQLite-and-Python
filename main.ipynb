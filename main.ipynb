{
 "cells": [
  {
   "cell_type": "markdown",
   "metadata": {},
   "source": [
    " This code includes creating a SQLite database, defining a table for PCB design files, and providing basic CRUD (Create, Read, Update, Delete) operations."
   ]
  },
  {
   "cell_type": "markdown",
   "metadata": {},
   "source": [
    "1. Setting up the SQLite Database"
   ]
  },
  {
   "cell_type": "code",
   "execution_count": 14,
   "metadata": {},
   "outputs": [],
   "source": [
    "import sqlite3\n",
    "\n",
    "def create_connection(db_file):\n",
    "    \"\"\" Create a database connection to the SQLite database \"\"\"\n",
    "    conn = None\n",
    "    try:\n",
    "        conn = sqlite3.connect(db_file)\n",
    "    except Exception as e:\n",
    "        print(e)\n",
    "    return conn\n",
    "\n",
    "def create_table(conn):\n",
    "    \"\"\" Create table for storing PCB design files \"\"\"\n",
    "    try:\n",
    "        cursor = conn.cursor()\n",
    "        cursor.execute(\"\"\"\n",
    "            CREATE TABLE IF NOT EXISTS pcb_designs (\n",
    "                file_id INTEGER PRIMARY KEY,\n",
    "                file_name TEXT NOT NULL,\n",
    "                version TEXT,\n",
    "                creation_date TEXT\n",
    "            )\n",
    "        \"\"\")\n",
    "        conn.commit()\n",
    "    except Exception as e:\n",
    "        print(e)\n",
    "\n",
    "# Initialize the database\n",
    "db_file = 'pcb_plm.db'\n",
    "conn = create_connection(db_file)\n",
    "create_table(conn)\n"
   ]
  },
  {
   "cell_type": "markdown",
   "metadata": {},
   "source": [
    "2. Basic CRUD Operations"
   ]
  },
  {
   "cell_type": "code",
   "execution_count": 15,
   "metadata": {},
   "outputs": [],
   "source": [
    "def add_pcb_design(conn, pcb_design):\n",
    "    \"\"\" Add a new PCB design file to the database \"\"\"\n",
    "    sql = ''' INSERT INTO pcb_designs(file_name, version, creation_date)\n",
    "              VALUES(?,?,?) '''\n",
    "    cur = conn.cursor()\n",
    "    cur.execute(sql, pcb_design)\n",
    "    conn.commit()\n",
    "    return cur.lastrowid\n",
    "\n",
    "def get_pcb_design(conn, file_id):\n",
    "    \"\"\" Query PCB design by id \"\"\"\n",
    "    cur = conn.cursor()\n",
    "    cur.execute(\"SELECT * FROM pcb_designs WHERE file_id=?\", (file_id,))\n",
    "    return cur.fetchone()\n",
    "\n",
    "def update_pcb_design(conn, pcb_design):\n",
    "    \"\"\" Update a PCB design file \"\"\"\n",
    "    sql = ''' UPDATE pcb_designs\n",
    "              SET file_name = ?, version = ?, creation_date = ?\n",
    "              WHERE file_id = ?'''\n",
    "    cur = conn.cursor()\n",
    "    cur.execute(sql, pcb_design)\n",
    "    conn.commit()\n",
    "\n",
    "def delete_pcb_design(conn, file_id):\n",
    "    \"\"\" Delete a PCB design file by file_id \"\"\"\n",
    "    sql = 'DELETE FROM pcb_designs WHERE file_id=?'\n",
    "    cur = conn.cursor()\n",
    "    cur.execute(sql, (file_id,))\n",
    "    conn.commit()\n"
   ]
  },
  {
   "cell_type": "markdown",
   "metadata": {},
   "source": [
    "Example Usage\n",
    "Here's how you can use these functions:"
   ]
  },
  {
   "cell_type": "code",
   "execution_count": 16,
   "metadata": {},
   "outputs": [
    {
     "name": "stdout",
     "output_type": "stream",
     "text": [
      "(4, 'example_pcb_v1', '1.0', '2024-01-10')\n"
     ]
    }
   ],
   "source": [
    "# Add a new PCB design\n",
    "pcb_design = ('example_pcb_v1', '1.0', '2024-01-10')\n",
    "file_id = add_pcb_design(conn, pcb_design)\n",
    "\n",
    "# Get the newly added design\n",
    "print(get_pcb_design(conn, file_id))\n",
    "\n",
    "# Update the PCB design\n",
    "update_pcb_design(conn, ('example_pcb_v2', '2.0', '2024-01-11', file_id))\n",
    "\n",
    "# Delete the PCB design\n",
    "# delete_pcb_design(conn, file_id)\n"
   ]
  },
  {
   "cell_type": "markdown",
   "metadata": {},
   "source": [
    "Issue Tracking and Management\n",
    "Implement a system for logging, tracking, and managing issues or bugs associated with different PCB designs.\n",
    "Include functionalities like issue creation, categorization (e.g., bug, enhancement), prioritization, and assignment to team members."
   ]
  },
  {
   "cell_type": "markdown",
   "metadata": {},
   "source": [
    "To implement an issue tracking and management system for your PCB design PLM, we'll expand upon the initial SQLite setup. The system will include functionalities for issue creation, categorization, prioritization, and assignment to team members. "
   ]
  },
  {
   "cell_type": "markdown",
   "metadata": {},
   "source": [
    "Step 1: Define a Table for Issue Tracking"
   ]
  },
  {
   "cell_type": "code",
   "execution_count": 20,
   "metadata": {},
   "outputs": [],
   "source": [
    "def create_issue_table(conn):\n",
    "    \"\"\" Create table for storing issues related to PCB designs \"\"\"\n",
    "    try:\n",
    "        cursor = conn.cursor()\n",
    "        cursor.execute(\"\"\"\n",
    "            CREATE TABLE IF NOT EXISTS pcb_issues (\n",
    "                issue_id INTEGER PRIMARY KEY,\n",
    "                pcb_file_id INTEGER,\n",
    "                description TEXT,\n",
    "                category TEXT,\n",
    "                priority INTEGER,\n",
    "                status TEXT,\n",
    "                assigned_to TEXT,\n",
    "                FOREIGN KEY (pcb_file_id) REFERENCES pcb_designs (file_id)\n",
    "            )\n",
    "        \"\"\")\n",
    "        conn.commit()\n",
    "    except Exception as e:\n",
    "        print(e)\n",
    "        \n",
    "create_issue_table(conn)"
   ]
  },
  {
   "cell_type": "markdown",
   "metadata": {},
   "source": [
    "Step 2: Functions for Issue Tracking Operations\n",
    "Next, we'll add functions to handle operations such as creating, reading, updating, and deleting issues."
   ]
  },
  {
   "cell_type": "code",
   "execution_count": 21,
   "metadata": {},
   "outputs": [],
   "source": [
    "def create_issue(conn, issue):\n",
    "    \"\"\" Add a new issue related to a PCB design file \"\"\"\n",
    "    sql = ''' INSERT INTO pcb_issues(pcb_file_id, description, category, priority, status, assigned_to)\n",
    "              VALUES(?,?,?,?,?,?) '''\n",
    "    cur = conn.cursor()\n",
    "    cur.execute(sql, issue)\n",
    "    conn.commit()\n",
    "    return cur.lastrowid\n",
    "\n",
    "def get_issue(conn, issue_id):\n",
    "    \"\"\" Query issue by id \"\"\"\n",
    "    cur = conn.cursor()\n",
    "    cur.execute(\"SELECT * FROM pcb_issues WHERE issue_id=?\", (issue_id,))\n",
    "    return cur.fetchone()\n",
    "\n",
    "def update_issue(conn, issue):\n",
    "    \"\"\" Update an issue \"\"\"\n",
    "    sql = ''' UPDATE pcb_issues\n",
    "              SET pcb_file_id = ?, description = ?, category = ?, priority = ?, status = ?, assigned_to = ?\n",
    "              WHERE issue_id = ?'''\n",
    "    cur = conn.cursor()\n",
    "    cur.execute(sql, issue)\n",
    "    conn.commit()\n",
    "\n",
    "def delete_issue(conn, issue_id):\n",
    "    \"\"\" Delete an issue by issue_id \"\"\"\n",
    "    sql = 'DELETE FROM pcb_issues WHERE issue_id=?'\n",
    "    cur = conn.cursor()\n",
    "    cur.execute(sql, (issue_id,))\n",
    "    conn.commit()\n"
   ]
  },
  {
   "cell_type": "markdown",
   "metadata": {},
   "source": [
    "Step 3: Example Usage\n",
    "Here's how you can use these functions to manage issues:"
   ]
  },
  {
   "cell_type": "code",
   "execution_count": 24,
   "metadata": {},
   "outputs": [
    {
     "name": "stdout",
     "output_type": "stream",
     "text": [
      "(2, 1, 'Power supply mismatch', 'bug', 2, 'open', 'John Doe')\n"
     ]
    }
   ],
   "source": [
    "# Create an issue\n",
    "issue = (1, 'Power supply mismatch', 'bug', 2, 'open', 'John Doe')\n",
    "issue_id = create_issue(conn, issue)\n",
    "\n",
    "# Get the created issue\n",
    "print(get_issue(conn, issue_id))\n",
    "\n",
    "# Update the issue\n",
    "update_issue(conn, (1, 'Power supply mismatch', 'bug', 1, 'resolved', 'Jane Smith', issue_id))\n",
    "\n",
    "# Delete the issue\n",
    "# delete_issue(conn, issue_id)\n"
   ]
  }
 ],
 "metadata": {
  "kernelspec": {
   "display_name": "Python 3",
   "language": "python",
   "name": "python3"
  },
  "language_info": {
   "codemirror_mode": {
    "name": "ipython",
    "version": 3
   },
   "file_extension": ".py",
   "mimetype": "text/x-python",
   "name": "python",
   "nbconvert_exporter": "python",
   "pygments_lexer": "ipython3",
   "version": "3.10.10"
  },
  "orig_nbformat": 4
 },
 "nbformat": 4,
 "nbformat_minor": 2
}
