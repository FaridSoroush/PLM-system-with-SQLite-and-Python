{
 "cells": [
  {
   "cell_type": "markdown",
   "metadata": {},
   "source": [
    "## This code includes the following features:\n",
    "\n",
    "### Database Management:\n",
    "- Creates a SQLite database.\n",
    "- Defines a table specifically for storing PCB design files.\n",
    "- Offers basic CRUD (Create, Read, Update, Delete) operations to manage the data within the database.\n",
    "\n",
    "### Issue Tracking and Management:\n",
    "- Enables users to create issues to track bugs, enhancements, and other tasks.\n",
    "- Allows for issue categorization (e.g., bug, enhancement).\n",
    "- Supports prioritization of issues based on importance.\n",
    "- Facilitates assignment of issues to specific team members.\n",
    "\n",
    "### Version Control Integration:\n",
    "- Integrates basic version control features.\n",
    "- Allows users to check-in and check-out PCB design files, similar to Git functionality.\n",
    "- Maintains version history to track changes over time, enabling review of file modifications.\n",
    "\n",
    "### Project Dashboard and Reporting:\n",
    "\n",
    "- A dashboard for an overview of all PCB design projects, including their current status, recent updates, and pending tasks.\n",
    "- Reporting features that allow users to generate status reports and performance metrics.\n",
    "\n",
    "### Revision Locking and Unlocking:\n",
    "\n",
    "- A feature to lock revisions of PCB designs, preventing further changes, akin to Perforce's file locking mechanism.\n",
    "\n",
    "### Workflow Automation:\n",
    "\n",
    "- An automated workflows for common processes, such as automatic notifications when a PCB design is updated or when an issue is resolved.\n",
    "\n",
    "### Branching and Merging for Designs:\n",
    "\n",
    "- Similar to Git, we have the concept of branching and merging for PCB designs. \n",
    "- This allows for experimenting with different design variations without affecting the main design.\n",
    "\n",
    "### REST API for Integration:\n",
    "\n",
    "- RESTful API to allow integration with other tools and platforms, enhancing the interoperability of your system."
   ]
  },
  {
   "cell_type": "markdown",
   "metadata": {},
   "source": []
  },
  {
   "cell_type": "markdown",
   "metadata": {},
   "source": [
    "### Database Management:\n",
    "- Creates a SQLite database.\n",
    "- Defines a table specifically for storing PCB design files.\n",
    "- Offers basic CRUD (Create, Read, Update, Delete) operations to manage the data within the database."
   ]
  },
  {
   "cell_type": "markdown",
   "metadata": {},
   "source": [
    "1. Setting up the SQLite Database"
   ]
  },
  {
   "cell_type": "code",
   "execution_count": 4,
   "metadata": {},
   "outputs": [],
   "source": [
    "import sqlite3\n",
    "\n",
    "def create_connection(db_file):\n",
    "    \"\"\" Create a database connection to the SQLite database \"\"\"\n",
    "    conn = None\n",
    "    try:\n",
    "        conn = sqlite3.connect(db_file)\n",
    "    except Exception as e:\n",
    "        print(e)\n",
    "    return conn\n",
    "\n",
    "def create_table(conn):\n",
    "    \"\"\" Create table for storing PCB design files \"\"\"\n",
    "    try:\n",
    "        cursor = conn.cursor()\n",
    "        cursor.execute(\"\"\"\n",
    "            CREATE TABLE IF NOT EXISTS pcb_designs (\n",
    "                file_id INTEGER PRIMARY KEY,\n",
    "                file_name TEXT NOT NULL,\n",
    "                version TEXT,\n",
    "                creation_date TEXT\n",
    "            )\n",
    "        \"\"\")\n",
    "        conn.commit()\n",
    "    except Exception as e:\n",
    "        print(e)\n",
    "\n",
    "# Initialize the database\n",
    "db_file = 'pcb_plm.db'\n",
    "conn = create_connection(db_file)\n",
    "create_table(conn)\n"
   ]
  },
  {
   "cell_type": "markdown",
   "metadata": {},
   "source": [
    "2. Basic CRUD Operations"
   ]
  },
  {
   "cell_type": "code",
   "execution_count": 5,
   "metadata": {},
   "outputs": [],
   "source": [
    "def add_pcb_design(conn, pcb_design):\n",
    "    \"\"\" Add a new PCB design file to the database \"\"\"\n",
    "    sql = ''' INSERT INTO pcb_designs(file_name, version, creation_date)\n",
    "              VALUES(?,?,?) '''\n",
    "    cur = conn.cursor()\n",
    "    cur.execute(sql, pcb_design)\n",
    "    conn.commit()\n",
    "    return cur.lastrowid\n",
    "\n",
    "def get_pcb_design(conn, file_id):\n",
    "    \"\"\" Query PCB design by id \"\"\"\n",
    "    cur = conn.cursor()\n",
    "    cur.execute(\"SELECT * FROM pcb_designs WHERE file_id=?\", (file_id,))\n",
    "    return cur.fetchone()\n",
    "\n",
    "def update_pcb_design(conn, pcb_design):\n",
    "    \"\"\" Update a PCB design file \"\"\"\n",
    "    sql = ''' UPDATE pcb_designs\n",
    "              SET file_name = ?, version = ?, creation_date = ?\n",
    "              WHERE file_id = ?'''\n",
    "    cur = conn.cursor()\n",
    "    cur.execute(sql, pcb_design)\n",
    "    conn.commit()\n",
    "\n",
    "def delete_pcb_design(conn, file_id):\n",
    "    \"\"\" Delete a PCB design file by file_id \"\"\"\n",
    "    sql = 'DELETE FROM pcb_designs WHERE file_id=?'\n",
    "    cur = conn.cursor()\n",
    "    cur.execute(sql, (file_id,))\n",
    "    conn.commit()\n"
   ]
  },
  {
   "cell_type": "markdown",
   "metadata": {},
   "source": [
    "Example Usage\n",
    "Here's how you can use these functions:"
   ]
  },
  {
   "cell_type": "code",
   "execution_count": 7,
   "metadata": {},
   "outputs": [
    {
     "name": "stdout",
     "output_type": "stream",
     "text": [
      "(6, 'example_pcb_v1', '1.0', '2024-01-10', None, 0)\n"
     ]
    }
   ],
   "source": [
    "# Add a new PCB design\n",
    "pcb_design = ('example_pcb_v1', '1.0', '2024-01-10')\n",
    "file_id = add_pcb_design(conn, pcb_design)\n",
    "\n",
    "# Get the newly added design\n",
    "print(get_pcb_design(conn, file_id))\n",
    "\n",
    "# Update the PCB design\n",
    "update_pcb_design(conn, ('example_pcb_v2', '2.0', '2024-01-11', file_id))\n",
    "\n",
    "# Delete the PCB design\n",
    "# delete_pcb_design(conn, file_id)\n"
   ]
  },
  {
   "cell_type": "markdown",
   "metadata": {},
   "source": [
    "### Issue Tracking and Management:\n",
    "- Enables users to create issues to track bugs, enhancements, and other tasks.\n",
    "- Allows for issue categorization (e.g., bug, enhancement).\n",
    "- Supports prioritization of issues based on importance.\n",
    "- Facilitates assignment of issues to specific team members."
   ]
  },
  {
   "cell_type": "markdown",
   "metadata": {},
   "source": [
    "Step 1: Define a Table for Issue Tracking"
   ]
  },
  {
   "cell_type": "code",
   "execution_count": 8,
   "metadata": {},
   "outputs": [],
   "source": [
    "def create_issue_table(conn):\n",
    "    \"\"\" Create table for storing issues related to PCB designs \"\"\"\n",
    "    try:\n",
    "        cursor = conn.cursor()\n",
    "        cursor.execute(\"\"\"\n",
    "            CREATE TABLE IF NOT EXISTS pcb_issues (\n",
    "                issue_id INTEGER PRIMARY KEY,\n",
    "                pcb_file_id INTEGER,\n",
    "                description TEXT,\n",
    "                category TEXT,\n",
    "                priority INTEGER,\n",
    "                status TEXT,\n",
    "                assigned_to TEXT,\n",
    "                FOREIGN KEY (pcb_file_id) REFERENCES pcb_designs (file_id)\n",
    "            )\n",
    "        \"\"\")\n",
    "        conn.commit()\n",
    "    except Exception as e:\n",
    "        print(e)\n",
    "        \n",
    "create_issue_table(conn)"
   ]
  },
  {
   "cell_type": "markdown",
   "metadata": {},
   "source": [
    "Step 2: Functions for Issue Tracking Operations\n",
    "Next, we'll add functions to handle operations such as creating, reading, updating, and deleting issues."
   ]
  },
  {
   "cell_type": "code",
   "execution_count": 9,
   "metadata": {},
   "outputs": [],
   "source": [
    "def create_issue(conn, issue):\n",
    "    \"\"\" Add a new issue related to a PCB design file \"\"\"\n",
    "    sql = ''' INSERT INTO pcb_issues(pcb_file_id, description, category, priority, status, assigned_to)\n",
    "              VALUES(?,?,?,?,?,?) '''\n",
    "    cur = conn.cursor()\n",
    "    cur.execute(sql, issue)\n",
    "    conn.commit()\n",
    "    return cur.lastrowid\n",
    "\n",
    "def get_issue(conn, issue_id):\n",
    "    \"\"\" Query issue by id \"\"\"\n",
    "    cur = conn.cursor()\n",
    "    cur.execute(\"SELECT * FROM pcb_issues WHERE issue_id=?\", (issue_id,))\n",
    "    return cur.fetchone()\n",
    "\n",
    "def update_issue(conn, issue):\n",
    "    \"\"\" Update an issue \"\"\"\n",
    "    sql = ''' UPDATE pcb_issues\n",
    "              SET pcb_file_id = ?, description = ?, category = ?, priority = ?, status = ?, assigned_to = ?\n",
    "              WHERE issue_id = ?'''\n",
    "    cur = conn.cursor()\n",
    "    cur.execute(sql, issue)\n",
    "    conn.commit()\n",
    "\n",
    "def delete_issue(conn, issue_id):\n",
    "    \"\"\" Delete an issue by issue_id \"\"\"\n",
    "    sql = 'DELETE FROM pcb_issues WHERE issue_id=?'\n",
    "    cur = conn.cursor()\n",
    "    cur.execute(sql, (issue_id,))\n",
    "    conn.commit()\n"
   ]
  },
  {
   "cell_type": "markdown",
   "metadata": {},
   "source": [
    "Step 3: Example Usage\n",
    "Here's how you can use these functions to manage issues:"
   ]
  },
  {
   "cell_type": "code",
   "execution_count": 10,
   "metadata": {},
   "outputs": [
    {
     "name": "stdout",
     "output_type": "stream",
     "text": [
      "(3, 1, 'Power supply mismatch', 'bug', 2, 'open', 'John Doe')\n"
     ]
    }
   ],
   "source": [
    "# Create an issue\n",
    "issue = (1, 'Power supply mismatch', 'bug', 2, 'open', 'John Doe')\n",
    "issue_id = create_issue(conn, issue)\n",
    "\n",
    "# Get the created issue\n",
    "print(get_issue(conn, issue_id))\n",
    "\n",
    "# Update the issue\n",
    "update_issue(conn, (1, 'Power supply mismatch', 'bug', 1, 'resolved', 'Jane Smith', issue_id))\n",
    "\n",
    "# Delete the issue\n",
    "# delete_issue(conn, issue_id)\n"
   ]
  },
  {
   "cell_type": "markdown",
   "metadata": {},
   "source": [
    "### Version Control Integration:\n",
    "- Integrates basic version control features.\n",
    "- Allows users to check-in and check-out PCB design files, similar to Git functionality.\n",
    "- Maintains version history to track changes over time, enabling review of file modifications."
   ]
  },
  {
   "cell_type": "markdown",
   "metadata": {},
   "source": [
    "**Step 1: Extend the PCB Design Table for Version Control** <br>\n",
    "modify the pcb_designs table to include additional fields necessary for version control, like last_modified and is_checked_out"
   ]
  },
  {
   "cell_type": "code",
   "execution_count": 11,
   "metadata": {},
   "outputs": [
    {
     "name": "stdout",
     "output_type": "stream",
     "text": [
      "duplicate column name: last_modified\n"
     ]
    }
   ],
   "source": [
    "def modify_pcb_design_table_for_version_control(conn):\n",
    "    \"\"\" Modify the PCB design table to include version control fields \"\"\"\n",
    "    try:\n",
    "        cursor = conn.cursor()\n",
    "        cursor.execute(\"\"\"\n",
    "            ALTER TABLE pcb_designs\n",
    "            ADD COLUMN last_modified TEXT;\n",
    "        \"\"\")\n",
    "        cursor.execute(\"\"\"\n",
    "            ALTER TABLE pcb_designs\n",
    "            ADD COLUMN is_checked_out BOOLEAN NOT NULL DEFAULT 0;\n",
    "        \"\"\")\n",
    "        conn.commit()\n",
    "    except Exception as e:\n",
    "        print(e)\n",
    "        \n",
    "modify_pcb_design_table_for_version_control(conn)"
   ]
  },
  {
   "cell_type": "markdown",
   "metadata": {},
   "source": [
    "**Step 2: Functions for Version Control Operations** <br>\n",
    "Implement functions to handle check-in, check-out, and version history tracking of PCB design files."
   ]
  },
  {
   "cell_type": "code",
   "execution_count": 12,
   "metadata": {},
   "outputs": [],
   "source": [
    "def check_out_pcb_design(conn, file_id, user):\n",
    "    \"\"\" Check out a PCB design file for editing \"\"\"\n",
    "    sql = ''' UPDATE pcb_designs\n",
    "              SET is_checked_out = 1,\n",
    "                  last_modified = datetime('now')\n",
    "              WHERE file_id = ?'''\n",
    "    cur = conn.cursor()\n",
    "    cur.execute(sql, (file_id,))\n",
    "    conn.commit()\n",
    "    # Log this action\n",
    "    log_version_history(conn, file_id, f\"Checked out by {user}\")\n",
    "\n",
    "def check_in_pcb_design(conn, file_id, user):\n",
    "    \"\"\" Check in a PCB design file after editing \"\"\"\n",
    "    sql = ''' UPDATE pcb_designs\n",
    "              SET is_checked_out = 0,\n",
    "                  last_modified = datetime('now')\n",
    "              WHERE file_id = ?'''\n",
    "    cur = conn.cursor()\n",
    "    cur.execute(sql, (file_id,))\n",
    "    conn.commit()\n",
    "    # Log this action\n",
    "    log_version_history(conn, file_id, f\"Checked in by {user}\")\n",
    "\n",
    "def log_version_history(conn, file_id, action):\n",
    "    \"\"\" Log the version history of PCB design files \"\"\"\n",
    "    sql = ''' INSERT INTO pcb_version_history(file_id, action, timestamp)\n",
    "              VALUES(?,?,datetime('now')) '''\n",
    "    cur = conn.cursor()\n",
    "    cur.execute(sql, (file_id, action))\n",
    "    conn.commit()\n"
   ]
  },
  {
   "cell_type": "markdown",
   "metadata": {},
   "source": [
    "**Step 3: Create a Table for Version History Logs** <br>\n",
    "A new table is needed to track the version history of each PCB design file."
   ]
  },
  {
   "cell_type": "code",
   "execution_count": 13,
   "metadata": {},
   "outputs": [],
   "source": [
    "def create_version_history_table(conn):\n",
    "    \"\"\" Create table for storing version history of PCB designs \"\"\"\n",
    "    try:\n",
    "        cursor = conn.cursor()\n",
    "        cursor.execute(\"\"\"\n",
    "            CREATE TABLE IF NOT EXISTS pcb_version_history (\n",
    "                history_id INTEGER PRIMARY KEY,\n",
    "                file_id INTEGER,\n",
    "                action TEXT,\n",
    "                timestamp TEXT,\n",
    "                FOREIGN KEY (file_id) REFERENCES pcb_designs (file_id)\n",
    "            )\n",
    "        \"\"\")\n",
    "        conn.commit()\n",
    "    except Exception as e:\n",
    "        print(e)\n",
    "\n",
    "create_version_history_table(conn)\n"
   ]
  },
  {
   "cell_type": "markdown",
   "metadata": {},
   "source": [
    "The log_version_history function is called within the check-in and check-out functions to automatically log these actions. You can expand this to include more detailed logging."
   ]
  },
  {
   "cell_type": "markdown",
   "metadata": {},
   "source": [
    "Step 4: Example Usage\n",
    "Here's how you can use these functions:"
   ]
  },
  {
   "cell_type": "code",
   "execution_count": 14,
   "metadata": {},
   "outputs": [],
   "source": [
    "# Check out a PCB design\n",
    "check_out_pcb_design(conn, file_id=1, user='Alice')\n",
    "\n",
    "# Check in the PCB design\n",
    "check_in_pcb_design(conn, file_id=1, user='Alice')\n"
   ]
  },
  {
   "cell_type": "markdown",
   "metadata": {},
   "source": [
    "### Project Dashboard and Reporting:\n",
    "- A dashboard for an overview of all PCB design projects, including their current status, recent updates, and pending tasks.\n",
    "- Reporting features that allow users to generate status reports and performance metrics."
   ]
  },
  {
   "cell_type": "markdown",
   "metadata": {},
   "source": [
    "**Step 1: Install Required Libraries**"
   ]
  },
  {
   "cell_type": "code",
   "execution_count": 21,
   "metadata": {},
   "outputs": [
    {
     "name": "stdout",
     "output_type": "stream",
     "text": [
      "Requirement already satisfied: matplotlib in /Library/Frameworks/Python.framework/Versions/3.11/lib/python3.11/site-packages (3.7.1)\n",
      "Requirement already satisfied: pandas in /Library/Frameworks/Python.framework/Versions/3.11/lib/python3.11/site-packages (2.0.2)\n",
      "Requirement already satisfied: contourpy>=1.0.1 in /Library/Frameworks/Python.framework/Versions/3.11/lib/python3.11/site-packages (from matplotlib) (1.0.7)\n",
      "Requirement already satisfied: cycler>=0.10 in /Library/Frameworks/Python.framework/Versions/3.11/lib/python3.11/site-packages (from matplotlib) (0.11.0)\n",
      "Requirement already satisfied: fonttools>=4.22.0 in /Library/Frameworks/Python.framework/Versions/3.11/lib/python3.11/site-packages (from matplotlib) (4.39.4)\n",
      "Requirement already satisfied: kiwisolver>=1.0.1 in /Library/Frameworks/Python.framework/Versions/3.11/lib/python3.11/site-packages (from matplotlib) (1.4.4)\n",
      "Requirement already satisfied: numpy>=1.20 in /Library/Frameworks/Python.framework/Versions/3.11/lib/python3.11/site-packages (from matplotlib) (1.24.3)\n",
      "Requirement already satisfied: packaging>=20.0 in /Library/Frameworks/Python.framework/Versions/3.11/lib/python3.11/site-packages (from matplotlib) (23.1)\n",
      "Requirement already satisfied: pillow>=6.2.0 in /Library/Frameworks/Python.framework/Versions/3.11/lib/python3.11/site-packages (from matplotlib) (9.5.0)\n",
      "Requirement already satisfied: pyparsing>=2.3.1 in /Library/Frameworks/Python.framework/Versions/3.11/lib/python3.11/site-packages (from matplotlib) (3.0.9)\n",
      "Requirement already satisfied: python-dateutil>=2.7 in /Library/Frameworks/Python.framework/Versions/3.11/lib/python3.11/site-packages (from matplotlib) (2.8.2)\n",
      "Requirement already satisfied: pytz>=2020.1 in /Library/Frameworks/Python.framework/Versions/3.11/lib/python3.11/site-packages (from pandas) (2023.3)\n",
      "Requirement already satisfied: tzdata>=2022.1 in /Library/Frameworks/Python.framework/Versions/3.11/lib/python3.11/site-packages (from pandas) (2023.3)\n",
      "Requirement already satisfied: six>=1.5 in /Library/Frameworks/Python.framework/Versions/3.11/lib/python3.11/site-packages (from python-dateutil>=2.7->matplotlib) (1.16.0)\n",
      "\n",
      "\u001b[1m[\u001b[0m\u001b[34;49mnotice\u001b[0m\u001b[1;39;49m]\u001b[0m\u001b[39;49m A new release of pip is available: \u001b[0m\u001b[31;49m23.2.1\u001b[0m\u001b[39;49m -> \u001b[0m\u001b[32;49m23.3.2\u001b[0m\n",
      "\u001b[1m[\u001b[0m\u001b[34;49mnotice\u001b[0m\u001b[1;39;49m]\u001b[0m\u001b[39;49m To update, run: \u001b[0m\u001b[32;49mpip install --upgrade pip\u001b[0m\n",
      "Collecting openpyxl\n",
      "  Downloading openpyxl-3.1.2-py2.py3-none-any.whl (249 kB)\n",
      "\u001b[2K     \u001b[90m━━━━━━━━━━━━━━━━━━━━━━━━━━━━━━━━━━━━━━━\u001b[0m \u001b[32m250.0/250.0 kB\u001b[0m \u001b[31m2.0 MB/s\u001b[0m eta \u001b[36m0:00:00\u001b[0m00:01\u001b[0m00:01\u001b[0m\n",
      "\u001b[?25hCollecting et-xmlfile (from openpyxl)\n",
      "  Downloading et_xmlfile-1.1.0-py3-none-any.whl (4.7 kB)\n",
      "Installing collected packages: et-xmlfile, openpyxl\n",
      "Successfully installed et-xmlfile-1.1.0 openpyxl-3.1.2\n",
      "\n",
      "\u001b[1m[\u001b[0m\u001b[34;49mnotice\u001b[0m\u001b[1;39;49m]\u001b[0m\u001b[39;49m A new release of pip is available: \u001b[0m\u001b[31;49m23.2.1\u001b[0m\u001b[39;49m -> \u001b[0m\u001b[32;49m23.3.2\u001b[0m\n",
      "\u001b[1m[\u001b[0m\u001b[34;49mnotice\u001b[0m\u001b[1;39;49m]\u001b[0m\u001b[39;49m To update, run: \u001b[0m\u001b[32;49mpip install --upgrade pip\u001b[0m\n"
     ]
    }
   ],
   "source": [
    "!pip install matplotlib pandas\n",
    "!pip install openpyxl"
   ]
  },
  {
   "cell_type": "markdown",
   "metadata": {},
   "source": [
    "**Step 2: Create Functions for Data Retrieval**"
   ]
  },
  {
   "cell_type": "code",
   "execution_count": 16,
   "metadata": {},
   "outputs": [],
   "source": [
    "import pandas as pd\n",
    "\n",
    "def get_all_pcb_designs(conn):\n",
    "    \"\"\" Retrieve all PCB designs for dashboard display \"\"\"\n",
    "    query = \"SELECT * FROM pcb_designs\"\n",
    "    return pd.read_sql_query(query, conn)\n",
    "\n",
    "def get_all_issues(conn):\n",
    "    \"\"\" Retrieve all issues for reporting \"\"\"\n",
    "    query = \"SELECT * FROM pcb_issues\"\n",
    "    return pd.read_sql_query(query, conn)"
   ]
  },
  {
   "cell_type": "markdown",
   "metadata": {},
   "source": [
    "**Step 3: Create Dashboard and Reports**"
   ]
  },
  {
   "cell_type": "code",
   "execution_count": 22,
   "metadata": {},
   "outputs": [],
   "source": [
    "import matplotlib.pyplot as plt\n",
    "\n",
    "def create_dashboard(conn):\n",
    "    \"\"\" Create a simple dashboard showing PCB designs and issues \"\"\"\n",
    "    pcb_designs = get_all_pcb_designs(conn)\n",
    "    issues = get_all_issues(conn)\n",
    "\n",
    "    # Plotting the number of designs and issues\n",
    "    plt.figure(figsize=(10, 5))\n",
    "    plt.subplot(1, 2, 1)\n",
    "    plt.bar(['Designs', 'Issues'], [len(pcb_designs), len(issues)])\n",
    "    plt.title('PCB Designs vs Issues')\n",
    "\n",
    "    # Other visualizations can be added here\n",
    "\n",
    "    plt.show()\n",
    "\n",
    "def generate_status_report(conn):\n",
    "    \"\"\" Generate a status report of PCB designs and issues \"\"\"\n",
    "    pcb_designs = get_all_pcb_designs(conn)\n",
    "    issues = get_all_issues(conn)\n",
    "\n",
    "    # You can add more complex analysis and data processing here\n",
    "\n",
    "    # Saving to an Excel file\n",
    "    with pd.ExcelWriter('PCB_Designs_Report.xlsx') as writer:\n",
    "        pcb_designs.to_excel(writer, sheet_name='PCB Designs')\n",
    "        issues.to_excel(writer, sheet_name='Issues')\n",
    "    print(\"Report generated: PCB_Designs_Report.xlsx\")\n",
    "\n"
   ]
  },
  {
   "cell_type": "markdown",
   "metadata": {},
   "source": [
    "**Step 4: Usage**"
   ]
  },
  {
   "cell_type": "code",
   "execution_count": 23,
   "metadata": {},
   "outputs": [
    {
     "data": {
      "image/png": "[encoded data removed]",
      "text/plain": [
       "<Figure size 1000x500 with 1 Axes>"
      ]
     },
     "metadata": {},
     "output_type": "display_data"
    },
    {
     "name": "stdout",
     "output_type": "stream",
     "text": [
      "Report generated: PCB_Designs_Report.xlsx\n"
     ]
    }
   ],
   "source": [
    "# Assuming conn is your established SQLite connection\n",
    "\n",
    "# Create and display the dashboard\n",
    "create_dashboard(conn)\n",
    "\n",
    "# Generate and save a status report\n",
    "generate_status_report(conn)"
   ]
  },
  {
   "cell_type": "markdown",
   "metadata": {},
   "source": [
    "### Revision Locking and Unlocking:\n",
    "- A feature to lock revisions of PCB designs, preventing further changes, akin to Perforce's file locking mechanism."
   ]
  },
  {
   "cell_type": "code",
   "execution_count": null,
   "metadata": {},
   "outputs": [],
   "source": []
  },
  {
   "cell_type": "markdown",
   "metadata": {},
   "source": [
    "### Workflow Automation:\n",
    "- An automated workflows for common processes, such as automatic notifications when a PCB design is updated or when an issue is resolved."
   ]
  },
  {
   "cell_type": "code",
   "execution_count": null,
   "metadata": {},
   "outputs": [],
   "source": []
  },
  {
   "cell_type": "markdown",
   "metadata": {},
   "source": [
    "### Branching and Merging for Designs:\n",
    "- Similar to Git, we have the concept of branching and merging for PCB designs. \n",
    "- This allows for experimenting with different design variations without affecting the main design."
   ]
  },
  {
   "cell_type": "code",
   "execution_count": null,
   "metadata": {},
   "outputs": [],
   "source": []
  },
  {
   "cell_type": "markdown",
   "metadata": {},
   "source": [
    "### REST API for Integration:\n",
    "- RESTful API to allow integration with other tools and platforms, enhancing the interoperability of your system."
   ]
  },
  {
   "cell_type": "code",
   "execution_count": null,
   "metadata": {},
   "outputs": [],
   "source": []
  }
 ],
 "metadata": {
  "kernelspec": {
   "display_name": "Python 3",
   "language": "python",
   "name": "python3"
  },
  "language_info": {
   "codemirror_mode": {
    "name": "ipython",
    "version": 3
   },
   "file_extension": ".py",
   "mimetype": "text/x-python",
   "name": "python",
   "nbconvert_exporter": "python",
   "pygments_lexer": "ipython3",
   "version": "3.11.1"
  },
  "orig_nbformat": 4
 },
 "nbformat": 4,
 "nbformat_minor": 2
}
