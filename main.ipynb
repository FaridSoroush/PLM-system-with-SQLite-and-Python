{
 "cells": [
  {
   "cell_type": "code",
   "execution_count": 1,
   "metadata": {},
   "outputs": [],
   "source": [
    "import sqlite3\n",
    "\n",
    "def create_connection(db_file):\n",
    "    \"\"\" Create a database connection to the SQLite database \"\"\"\n",
    "    conn = None\n",
    "    try:\n",
    "        conn = sqlite3.connect(db_file)\n",
    "    except Exception as e:\n",
    "        print(e)\n",
    "    return conn\n",
    "\n",
    "def create_table(conn):\n",
    "    \"\"\" Create table for storing PCB design files \"\"\"\n",
    "    try:\n",
    "        cursor = conn.cursor()\n",
    "        cursor.execute(\"\"\"\n",
    "            CREATE TABLE IF NOT EXISTS pcb_designs (\n",
    "                file_id INTEGER PRIMARY KEY,\n",
    "                file_name TEXT NOT NULL,\n",
    "                version TEXT,\n",
    "                creation_date TEXT\n",
    "            )\n",
    "        \"\"\")\n",
    "        conn.commit()\n",
    "    except Exception as e:\n",
    "        print(e)\n",
    "\n",
    "# Initialize the database\n",
    "db_file = 'pcb_plm.db'\n",
    "conn = create_connection(db_file)\n",
    "create_table(conn)\n"
   ]
  },
  {
   "cell_type": "code",
   "execution_count": 2,
   "metadata": {},
   "outputs": [],
   "source": [
    "def add_pcb_design(conn, pcb_design):\n",
    "    \"\"\" Add a new PCB design file to the database \"\"\"\n",
    "    sql = ''' INSERT INTO pcb_designs(file_name, version, creation_date)\n",
    "              VALUES(?,?,?) '''\n",
    "    cur = conn.cursor()\n",
    "    cur.execute(sql, pcb_design)\n",
    "    conn.commit()\n",
    "    return cur.lastrowid\n",
    "\n",
    "def get_pcb_design(conn, file_id):\n",
    "    \"\"\" Query PCB design by id \"\"\"\n",
    "    cur = conn.cursor()\n",
    "    cur.execute(\"SELECT * FROM pcb_designs WHERE file_id=?\", (file_id,))\n",
    "    return cur.fetchone()\n",
    "\n",
    "def update_pcb_design(conn, pcb_design):\n",
    "    \"\"\" Update a PCB design file \"\"\"\n",
    "    sql = ''' UPDATE pcb_designs\n",
    "              SET file_name = ?, version = ?, creation_date = ?\n",
    "              WHERE file_id = ?'''\n",
    "    cur = conn.cursor()\n",
    "    cur.execute(sql, pcb_design)\n",
    "    conn.commit()\n",
    "\n",
    "def delete_pcb_design(conn, file_id):\n",
    "    \"\"\" Delete a PCB design file by file_id \"\"\"\n",
    "    sql = 'DELETE FROM pcb_designs WHERE file_id=?'\n",
    "    cur = conn.cursor()\n",
    "    cur.execute(sql, (file_id,))\n",
    "    conn.commit()\n"
   ]
  },
  {
   "cell_type": "code",
   "execution_count": 4,
   "metadata": {},
   "outputs": [
    {
     "name": "stdout",
     "output_type": "stream",
     "text": [
      "(1, 'example_pcb_v1', '1.0', '2024-01-10')\n"
     ]
    }
   ],
   "source": [
    "# Add a new PCB design\n",
    "pcb_design = ('example_pcb_v1', '1.0', '2024-01-10')\n",
    "file_id = add_pcb_design(conn, pcb_design)\n",
    "\n",
    "# Get the newly added design\n",
    "print(get_pcb_design(conn, file_id))\n",
    "\n",
    "# Update the PCB design\n",
    "update_pcb_design(conn, ('example_pcb_v2', '2.0', '2024-01-11', file_id))\n",
    "\n",
    "# Delete the PCB design\n",
    "# delete_pcb_design(conn, file_id)\n"
   ]
  }
 ],
 "metadata": {
  "kernelspec": {
   "display_name": "Python 3",
   "language": "python",
   "name": "python3"
  },
  "language_info": {
   "codemirror_mode": {
    "name": "ipython",
    "version": 3
   },
   "file_extension": ".py",
   "mimetype": "text/x-python",
   "name": "python",
   "nbconvert_exporter": "python",
   "pygments_lexer": "ipython3",
   "version": "3.10.10"
  },
  "orig_nbformat": 4
 },
 "nbformat": 4,
 "nbformat_minor": 2
}
